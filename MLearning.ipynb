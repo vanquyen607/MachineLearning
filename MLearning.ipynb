{
  "cells": [
    {
      "cell_type": "markdown",
      "metadata": {
        "id": "sfMqjDXKrZaF"
      },
      "source": [
        "# **Problem : medication classification**\n"
      ]
    },
    {
      "cell_type": "markdown",
      "source": [
        "## I. Get the data"
      ],
      "metadata": {
        "id": "UkjFa3ASL_tr"
      }
    },
    {
      "cell_type": "markdown",
      "source": [
        "**1.Download the data**"
      ],
      "metadata": {
        "id": "NuhfVXLYNFw9"
      }
    },
    {
      "cell_type": "code",
      "source": [
        "from pathlib import Path\n",
        "import pandas as pd\n",
        "import zipfile\n",
        "import urllib.request\n",
        "\n",
        "def load_medicine_data():\n",
        "    zip_path = Path(\"datasets/main.zip\")\n",
        "    if not zip_path.is_file():\n",
        "        Path(\"datasets\").mkdir(parents=True, exist_ok=True)\n",
        "        url = \"https://github.com/vanquyen607/medicine_dataset/archive/refs/heads/main.zip\" # updated URL\n",
        "        urllib.request.urlretrieve(url, zip_path)\n",
        "\n",
        "        with zipfile.ZipFile(zip_path, 'r') as zip_ref:\n",
        "            zip_ref.extractall(path=\"datasets\")\n",
        "\n",
        "    return pd.read_csv(Path(\"datasets/medicine_dataset-main/Medicine_Details.csv\"))\n",
        "\n",
        "Medicine_Details = load_medicine_data()"
      ],
      "metadata": {
        "id": "gFf6_FMewW1Z"
      },
      "execution_count": null,
      "outputs": []
    },
    {
      "cell_type": "markdown",
      "metadata": {
        "id": "CvJDWDxGazrY"
      },
      "source": [
        "**2.Take a Quick Look at the Data Structure**\n"
      ]
    },
    {
      "cell_type": "code",
      "execution_count": null,
      "metadata": {
        "id": "QYc3uJUNa3No",
        "colab": {
          "base_uri": "https://localhost:8080/",
          "height": 414
        },
        "outputId": "9b3c526b-dc5c-49da-8169-85059f2bf257"
      },
      "outputs": [
        {
          "output_type": "execute_result",
          "data": {
            "text/plain": [
              "              Medicine Name  \\\n",
              "0   Avastin 400mg Injection   \n",
              "1  Augmentin 625 Duo Tablet   \n",
              "2       Azithral 500 Tablet   \n",
              "3          Ascoril LS Syrup   \n",
              "4         Aciloc 150 Tablet   \n",
              "\n",
              "                                         Composition  \\\n",
              "0                                Bevacizumab (400mg)   \n",
              "1    Amoxycillin  (500mg) +  Clavulanic Acid (125mg)   \n",
              "2                               Azithromycin (500mg)   \n",
              "3  Ambroxol (30mg/5ml) + Levosalbutamol (1mg/5ml)...   \n",
              "4                                 Ranitidine (150mg)   \n",
              "\n",
              "                                                Uses  \\\n",
              "0   Cancer of colon and rectum Non-small cell lun...   \n",
              "1                  Treatment of Bacterial infections   \n",
              "2                  Treatment of Bacterial infections   \n",
              "3                      Treatment of Cough with mucus   \n",
              "4  Treatment of Gastroesophageal reflux disease (...   \n",
              "\n",
              "                                        Side_effects  \\\n",
              "0  Rectal bleeding Taste change Headache Noseblee...   \n",
              "1  Vomiting Nausea Diarrhea Mucocutaneous candidi...   \n",
              "2                     Nausea Abdominal pain Diarrhea   \n",
              "3  Nausea Vomiting Diarrhea Upset stomach Stomach...   \n",
              "4     Headache Diarrhea Gastrointestinal disturbance   \n",
              "\n",
              "                                           Image URL  \\\n",
              "0  https://onemg.gumlet.io/l_watermark_346,w_480,...   \n",
              "1  https://onemg.gumlet.io/l_watermark_346,w_480,...   \n",
              "2  https://onemg.gumlet.io/l_watermark_346,w_480,...   \n",
              "3  https://onemg.gumlet.io/l_watermark_346,w_480,...   \n",
              "4  https://onemg.gumlet.io/l_watermark_346,w_480,...   \n",
              "\n",
              "                           Manufacturer  Excellent Review %  Average Review %  \\\n",
              "0          Roche Products India Pvt Ltd                  22                56   \n",
              "1  Glaxo SmithKline Pharmaceuticals Ltd                  47                35   \n",
              "2           Alembic Pharmaceuticals Ltd                  39                40   \n",
              "3          Glenmark Pharmaceuticals Ltd                  24                41   \n",
              "4            Cadila Pharmaceuticals Ltd                  34                37   \n",
              "\n",
              "   Poor Review %  \n",
              "0             22  \n",
              "1             18  \n",
              "2             21  \n",
              "3             35  \n",
              "4             29  "
            ],
            "text/html": [
              "\n",
              "  <div id=\"df-073a50e5-1e86-4409-b540-915de5446c8e\" class=\"colab-df-container\">\n",
              "    <div>\n",
              "<style scoped>\n",
              "    .dataframe tbody tr th:only-of-type {\n",
              "        vertical-align: middle;\n",
              "    }\n",
              "\n",
              "    .dataframe tbody tr th {\n",
              "        vertical-align: top;\n",
              "    }\n",
              "\n",
              "    .dataframe thead th {\n",
              "        text-align: right;\n",
              "    }\n",
              "</style>\n",
              "<table border=\"1\" class=\"dataframe\">\n",
              "  <thead>\n",
              "    <tr style=\"text-align: right;\">\n",
              "      <th></th>\n",
              "      <th>Medicine Name</th>\n",
              "      <th>Composition</th>\n",
              "      <th>Uses</th>\n",
              "      <th>Side_effects</th>\n",
              "      <th>Image URL</th>\n",
              "      <th>Manufacturer</th>\n",
              "      <th>Excellent Review %</th>\n",
              "      <th>Average Review %</th>\n",
              "      <th>Poor Review %</th>\n",
              "    </tr>\n",
              "  </thead>\n",
              "  <tbody>\n",
              "    <tr>\n",
              "      <th>0</th>\n",
              "      <td>Avastin 400mg Injection</td>\n",
              "      <td>Bevacizumab (400mg)</td>\n",
              "      <td>Cancer of colon and rectum Non-small cell lun...</td>\n",
              "      <td>Rectal bleeding Taste change Headache Noseblee...</td>\n",
              "      <td>https://onemg.gumlet.io/l_watermark_346,w_480,...</td>\n",
              "      <td>Roche Products India Pvt Ltd</td>\n",
              "      <td>22</td>\n",
              "      <td>56</td>\n",
              "      <td>22</td>\n",
              "    </tr>\n",
              "    <tr>\n",
              "      <th>1</th>\n",
              "      <td>Augmentin 625 Duo Tablet</td>\n",
              "      <td>Amoxycillin  (500mg) +  Clavulanic Acid (125mg)</td>\n",
              "      <td>Treatment of Bacterial infections</td>\n",
              "      <td>Vomiting Nausea Diarrhea Mucocutaneous candidi...</td>\n",
              "      <td>https://onemg.gumlet.io/l_watermark_346,w_480,...</td>\n",
              "      <td>Glaxo SmithKline Pharmaceuticals Ltd</td>\n",
              "      <td>47</td>\n",
              "      <td>35</td>\n",
              "      <td>18</td>\n",
              "    </tr>\n",
              "    <tr>\n",
              "      <th>2</th>\n",
              "      <td>Azithral 500 Tablet</td>\n",
              "      <td>Azithromycin (500mg)</td>\n",
              "      <td>Treatment of Bacterial infections</td>\n",
              "      <td>Nausea Abdominal pain Diarrhea</td>\n",
              "      <td>https://onemg.gumlet.io/l_watermark_346,w_480,...</td>\n",
              "      <td>Alembic Pharmaceuticals Ltd</td>\n",
              "      <td>39</td>\n",
              "      <td>40</td>\n",
              "      <td>21</td>\n",
              "    </tr>\n",
              "    <tr>\n",
              "      <th>3</th>\n",
              "      <td>Ascoril LS Syrup</td>\n",
              "      <td>Ambroxol (30mg/5ml) + Levosalbutamol (1mg/5ml)...</td>\n",
              "      <td>Treatment of Cough with mucus</td>\n",
              "      <td>Nausea Vomiting Diarrhea Upset stomach Stomach...</td>\n",
              "      <td>https://onemg.gumlet.io/l_watermark_346,w_480,...</td>\n",
              "      <td>Glenmark Pharmaceuticals Ltd</td>\n",
              "      <td>24</td>\n",
              "      <td>41</td>\n",
              "      <td>35</td>\n",
              "    </tr>\n",
              "    <tr>\n",
              "      <th>4</th>\n",
              "      <td>Aciloc 150 Tablet</td>\n",
              "      <td>Ranitidine (150mg)</td>\n",
              "      <td>Treatment of Gastroesophageal reflux disease (...</td>\n",
              "      <td>Headache Diarrhea Gastrointestinal disturbance</td>\n",
              "      <td>https://onemg.gumlet.io/l_watermark_346,w_480,...</td>\n",
              "      <td>Cadila Pharmaceuticals Ltd</td>\n",
              "      <td>34</td>\n",
              "      <td>37</td>\n",
              "      <td>29</td>\n",
              "    </tr>\n",
              "  </tbody>\n",
              "</table>\n",
              "</div>\n",
              "    <div class=\"colab-df-buttons\">\n",
              "\n",
              "  <div class=\"colab-df-container\">\n",
              "    <button class=\"colab-df-convert\" onclick=\"convertToInteractive('df-073a50e5-1e86-4409-b540-915de5446c8e')\"\n",
              "            title=\"Convert this dataframe to an interactive table.\"\n",
              "            style=\"display:none;\">\n",
              "\n",
              "  <svg xmlns=\"http://www.w3.org/2000/svg\" height=\"24px\" viewBox=\"0 -960 960 960\">\n",
              "    <path d=\"M120-120v-720h720v720H120Zm60-500h600v-160H180v160Zm220 220h160v-160H400v160Zm0 220h160v-160H400v160ZM180-400h160v-160H180v160Zm440 0h160v-160H620v160ZM180-180h160v-160H180v160Zm440 0h160v-160H620v160Z\"/>\n",
              "  </svg>\n",
              "    </button>\n",
              "\n",
              "  <style>\n",
              "    .colab-df-container {\n",
              "      display:flex;\n",
              "      gap: 12px;\n",
              "    }\n",
              "\n",
              "    .colab-df-convert {\n",
              "      background-color: #E8F0FE;\n",
              "      border: none;\n",
              "      border-radius: 50%;\n",
              "      cursor: pointer;\n",
              "      display: none;\n",
              "      fill: #1967D2;\n",
              "      height: 32px;\n",
              "      padding: 0 0 0 0;\n",
              "      width: 32px;\n",
              "    }\n",
              "\n",
              "    .colab-df-convert:hover {\n",
              "      background-color: #E2EBFA;\n",
              "      box-shadow: 0px 1px 2px rgba(60, 64, 67, 0.3), 0px 1px 3px 1px rgba(60, 64, 67, 0.15);\n",
              "      fill: #174EA6;\n",
              "    }\n",
              "\n",
              "    .colab-df-buttons div {\n",
              "      margin-bottom: 4px;\n",
              "    }\n",
              "\n",
              "    [theme=dark] .colab-df-convert {\n",
              "      background-color: #3B4455;\n",
              "      fill: #D2E3FC;\n",
              "    }\n",
              "\n",
              "    [theme=dark] .colab-df-convert:hover {\n",
              "      background-color: #434B5C;\n",
              "      box-shadow: 0px 1px 3px 1px rgba(0, 0, 0, 0.15);\n",
              "      filter: drop-shadow(0px 1px 2px rgba(0, 0, 0, 0.3));\n",
              "      fill: #FFFFFF;\n",
              "    }\n",
              "  </style>\n",
              "\n",
              "    <script>\n",
              "      const buttonEl =\n",
              "        document.querySelector('#df-073a50e5-1e86-4409-b540-915de5446c8e button.colab-df-convert');\n",
              "      buttonEl.style.display =\n",
              "        google.colab.kernel.accessAllowed ? 'block' : 'none';\n",
              "\n",
              "      async function convertToInteractive(key) {\n",
              "        const element = document.querySelector('#df-073a50e5-1e86-4409-b540-915de5446c8e');\n",
              "        const dataTable =\n",
              "          await google.colab.kernel.invokeFunction('convertToInteractive',\n",
              "                                                    [key], {});\n",
              "        if (!dataTable) return;\n",
              "\n",
              "        const docLinkHtml = 'Like what you see? Visit the ' +\n",
              "          '<a target=\"_blank\" href=https://colab.research.google.com/notebooks/data_table.ipynb>data table notebook</a>'\n",
              "          + ' to learn more about interactive tables.';\n",
              "        element.innerHTML = '';\n",
              "        dataTable['output_type'] = 'display_data';\n",
              "        await google.colab.output.renderOutput(dataTable, element);\n",
              "        const docLink = document.createElement('div');\n",
              "        docLink.innerHTML = docLinkHtml;\n",
              "        element.appendChild(docLink);\n",
              "      }\n",
              "    </script>\n",
              "  </div>\n",
              "\n",
              "\n",
              "<div id=\"df-97c7b419-6fa9-4fdb-b0b4-0e23f9beae52\">\n",
              "  <button class=\"colab-df-quickchart\" onclick=\"quickchart('df-97c7b419-6fa9-4fdb-b0b4-0e23f9beae52')\"\n",
              "            title=\"Suggest charts\"\n",
              "            style=\"display:none;\">\n",
              "\n",
              "<svg xmlns=\"http://www.w3.org/2000/svg\" height=\"24px\"viewBox=\"0 0 24 24\"\n",
              "     width=\"24px\">\n",
              "    <g>\n",
              "        <path d=\"M19 3H5c-1.1 0-2 .9-2 2v14c0 1.1.9 2 2 2h14c1.1 0 2-.9 2-2V5c0-1.1-.9-2-2-2zM9 17H7v-7h2v7zm4 0h-2V7h2v10zm4 0h-2v-4h2v4z\"/>\n",
              "    </g>\n",
              "</svg>\n",
              "  </button>\n",
              "\n",
              "<style>\n",
              "  .colab-df-quickchart {\n",
              "      --bg-color: #E8F0FE;\n",
              "      --fill-color: #1967D2;\n",
              "      --hover-bg-color: #E2EBFA;\n",
              "      --hover-fill-color: #174EA6;\n",
              "      --disabled-fill-color: #AAA;\n",
              "      --disabled-bg-color: #DDD;\n",
              "  }\n",
              "\n",
              "  [theme=dark] .colab-df-quickchart {\n",
              "      --bg-color: #3B4455;\n",
              "      --fill-color: #D2E3FC;\n",
              "      --hover-bg-color: #434B5C;\n",
              "      --hover-fill-color: #FFFFFF;\n",
              "      --disabled-bg-color: #3B4455;\n",
              "      --disabled-fill-color: #666;\n",
              "  }\n",
              "\n",
              "  .colab-df-quickchart {\n",
              "    background-color: var(--bg-color);\n",
              "    border: none;\n",
              "    border-radius: 50%;\n",
              "    cursor: pointer;\n",
              "    display: none;\n",
              "    fill: var(--fill-color);\n",
              "    height: 32px;\n",
              "    padding: 0;\n",
              "    width: 32px;\n",
              "  }\n",
              "\n",
              "  .colab-df-quickchart:hover {\n",
              "    background-color: var(--hover-bg-color);\n",
              "    box-shadow: 0 1px 2px rgba(60, 64, 67, 0.3), 0 1px 3px 1px rgba(60, 64, 67, 0.15);\n",
              "    fill: var(--button-hover-fill-color);\n",
              "  }\n",
              "\n",
              "  .colab-df-quickchart-complete:disabled,\n",
              "  .colab-df-quickchart-complete:disabled:hover {\n",
              "    background-color: var(--disabled-bg-color);\n",
              "    fill: var(--disabled-fill-color);\n",
              "    box-shadow: none;\n",
              "  }\n",
              "\n",
              "  .colab-df-spinner {\n",
              "    border: 2px solid var(--fill-color);\n",
              "    border-color: transparent;\n",
              "    border-bottom-color: var(--fill-color);\n",
              "    animation:\n",
              "      spin 1s steps(1) infinite;\n",
              "  }\n",
              "\n",
              "  @keyframes spin {\n",
              "    0% {\n",
              "      border-color: transparent;\n",
              "      border-bottom-color: var(--fill-color);\n",
              "      border-left-color: var(--fill-color);\n",
              "    }\n",
              "    20% {\n",
              "      border-color: transparent;\n",
              "      border-left-color: var(--fill-color);\n",
              "      border-top-color: var(--fill-color);\n",
              "    }\n",
              "    30% {\n",
              "      border-color: transparent;\n",
              "      border-left-color: var(--fill-color);\n",
              "      border-top-color: var(--fill-color);\n",
              "      border-right-color: var(--fill-color);\n",
              "    }\n",
              "    40% {\n",
              "      border-color: transparent;\n",
              "      border-right-color: var(--fill-color);\n",
              "      border-top-color: var(--fill-color);\n",
              "    }\n",
              "    60% {\n",
              "      border-color: transparent;\n",
              "      border-right-color: var(--fill-color);\n",
              "    }\n",
              "    80% {\n",
              "      border-color: transparent;\n",
              "      border-right-color: var(--fill-color);\n",
              "      border-bottom-color: var(--fill-color);\n",
              "    }\n",
              "    90% {\n",
              "      border-color: transparent;\n",
              "      border-bottom-color: var(--fill-color);\n",
              "    }\n",
              "  }\n",
              "</style>\n",
              "\n",
              "  <script>\n",
              "    async function quickchart(key) {\n",
              "      const quickchartButtonEl =\n",
              "        document.querySelector('#' + key + ' button');\n",
              "      quickchartButtonEl.disabled = true;  // To prevent multiple clicks.\n",
              "      quickchartButtonEl.classList.add('colab-df-spinner');\n",
              "      try {\n",
              "        const charts = await google.colab.kernel.invokeFunction(\n",
              "            'suggestCharts', [key], {});\n",
              "      } catch (error) {\n",
              "        console.error('Error during call to suggestCharts:', error);\n",
              "      }\n",
              "      quickchartButtonEl.classList.remove('colab-df-spinner');\n",
              "      quickchartButtonEl.classList.add('colab-df-quickchart-complete');\n",
              "    }\n",
              "    (() => {\n",
              "      let quickchartButtonEl =\n",
              "        document.querySelector('#df-97c7b419-6fa9-4fdb-b0b4-0e23f9beae52 button');\n",
              "      quickchartButtonEl.style.display =\n",
              "        google.colab.kernel.accessAllowed ? 'block' : 'none';\n",
              "    })();\n",
              "  </script>\n",
              "</div>\n",
              "\n",
              "    </div>\n",
              "  </div>\n"
            ],
            "application/vnd.google.colaboratory.intrinsic+json": {
              "type": "dataframe",
              "variable_name": "Medicine_Details",
              "summary": "{\n  \"name\": \"Medicine_Details\",\n  \"rows\": 11825,\n  \"fields\": [\n    {\n      \"column\": \"Medicine Name\",\n      \"properties\": {\n        \"dtype\": \"string\",\n        \"num_unique_values\": 11498,\n        \"samples\": [\n          \"Mixbiotic-AC Ear Drop\",\n          \"Druffnil Shampoo\",\n          \"Fungicip 150mg Tablet\"\n        ],\n        \"semantic_type\": \"\",\n        \"description\": \"\"\n      }\n    },\n    {\n      \"column\": \"Composition\",\n      \"properties\": {\n        \"dtype\": \"category\",\n        \"num_unique_values\": 3358,\n        \"samples\": [\n          \"Blonanserin (4mg)\",\n          \"Indomethacin (50mg)\",\n          \"Metformin  (1000mg) +  Vildagliptin (50mg)\"\n        ],\n        \"semantic_type\": \"\",\n        \"description\": \"\"\n      }\n    },\n    {\n      \"column\": \"Uses\",\n      \"properties\": {\n        \"dtype\": \"category\",\n        \"num_unique_values\": 712,\n        \"samples\": [\n          \" Hormone replacement therapy Post menopausal osteoporosis\",\n          \"Treatment of Rheumatoid arthritisTreatment of PsoriasisTreatment of CancerTreatment of Crohn\\u2019s disease\",\n          \"Treatment of Dandruff\"\n        ],\n        \"semantic_type\": \"\",\n        \"description\": \"\"\n      }\n    },\n    {\n      \"column\": \"Side_effects\",\n      \"properties\": {\n        \"dtype\": \"category\",\n        \"num_unique_values\": 1512,\n        \"samples\": [\n          \"Headache Loss of appetite Dizziness Weakness Joint pain Muscle pain\",\n          \"Bone pain Weakness Headache Rash Nausea Increased lactate dehydrogenase level in blood Vomiting Increased uric acid level in blood Oropharyngeal pain Hair loss Fatigue Diarrhea Constipation Decreased appetite Cough Breathing problems Injection site reactions pain swelling redness\",\n          \"Nausea Headache Bloating\"\n        ],\n        \"semantic_type\": \"\",\n        \"description\": \"\"\n      }\n    },\n    {\n      \"column\": \"Image URL\",\n      \"properties\": {\n        \"dtype\": \"string\",\n        \"num_unique_values\": 11740,\n        \"samples\": [\n          \"https://onemg.gumlet.io/l_watermark_346,w_480,h_480/a_ignore,w_480,h_480,c_fit,q_auto,f_auto/cropped/rc4zmux1wvjslaaxh4vy.jpg\",\n          \"https://onemg.gumlet.io/l_watermark_346,w_480,h_480/a_ignore,w_480,h_480,c_fit,q_auto,f_auto/lae9sgpkmgw0frgzsr8g.jpg\",\n          \"https://onemg.gumlet.io/l_watermark_346,w_480,h_480/a_ignore,w_480,h_480,c_fit,q_auto,f_auto/6bd6125eab5e4e8b847f467b90f06098.jpg\"\n        ],\n        \"semantic_type\": \"\",\n        \"description\": \"\"\n      }\n    },\n    {\n      \"column\": \"Manufacturer\",\n      \"properties\": {\n        \"dtype\": \"category\",\n        \"num_unique_values\": 759,\n        \"samples\": [\n          \"Jupiter Pharmaceutical Ltd\",\n          \"Rivan Pharma\",\n          \"Inga Laboratories Pvt Ltd\"\n        ],\n        \"semantic_type\": \"\",\n        \"description\": \"\"\n      }\n    },\n    {\n      \"column\": \"Excellent Review %\",\n      \"properties\": {\n        \"dtype\": \"number\",\n        \"std\": 25,\n        \"min\": 0,\n        \"max\": 100,\n        \"num_unique_values\": 85,\n        \"samples\": [\n          9,\n          22,\n          75\n        ],\n        \"semantic_type\": \"\",\n        \"description\": \"\"\n      }\n    },\n    {\n      \"column\": \"Average Review %\",\n      \"properties\": {\n        \"dtype\": \"number\",\n        \"std\": 18,\n        \"min\": 0,\n        \"max\": 88,\n        \"num_unique_values\": 79,\n        \"samples\": [\n          57,\n          56,\n          24\n        ],\n        \"semantic_type\": \"\",\n        \"description\": \"\"\n      }\n    },\n    {\n      \"column\": \"Poor Review %\",\n      \"properties\": {\n        \"dtype\": \"number\",\n        \"std\": 23,\n        \"min\": 0,\n        \"max\": 100,\n        \"num_unique_values\": 81,\n        \"samples\": [\n          12,\n          22,\n          13\n        ],\n        \"semantic_type\": \"\",\n        \"description\": \"\"\n      }\n    }\n  ]\n}"
            }
          },
          "metadata": {},
          "execution_count": 3
        }
      ],
      "source": [
        "Medicine_Details.head()"
      ]
    },
    {
      "cell_type": "code",
      "source": [
        "Medicine_Details.info()"
      ],
      "metadata": {
        "colab": {
          "base_uri": "https://localhost:8080/"
        },
        "id": "_UhOwiBSNmHO",
        "outputId": "da110cd4-9756-4c42-d291-be46595c1b99"
      },
      "execution_count": null,
      "outputs": [
        {
          "output_type": "stream",
          "name": "stdout",
          "text": [
            "<class 'pandas.core.frame.DataFrame'>\n",
            "RangeIndex: 11825 entries, 0 to 11824\n",
            "Data columns (total 9 columns):\n",
            " #   Column              Non-Null Count  Dtype \n",
            "---  ------              --------------  ----- \n",
            " 0   Medicine Name       11825 non-null  object\n",
            " 1   Composition         11825 non-null  object\n",
            " 2   Uses                11825 non-null  object\n",
            " 3   Side_effects        11825 non-null  object\n",
            " 4   Image URL           11825 non-null  object\n",
            " 5   Manufacturer        11825 non-null  object\n",
            " 6   Excellent Review %  11825 non-null  int64 \n",
            " 7   Average Review %    11825 non-null  int64 \n",
            " 8   Poor Review %       11825 non-null  int64 \n",
            "dtypes: int64(3), object(6)\n",
            "memory usage: 831.6+ KB\n"
          ]
        }
      ]
    },
    {
      "cell_type": "code",
      "execution_count": null,
      "metadata": {
        "id": "tB2Ct9qPbTko",
        "colab": {
          "base_uri": "https://localhost:8080/",
          "height": 489
        },
        "outputId": "1f8387c2-365e-437b-fa8a-8199a46ffcd0"
      },
      "outputs": [
        {
          "output_type": "execute_result",
          "data": {
            "text/plain": [
              "Medicine Name\n",
              "Lulifin Cream            4\n",
              "Benadryl Syrup           3\n",
              "Livoluk Oral Solution    3\n",
              "Nebistar 5 Tablet        3\n",
              "Amrolstar Cream          3\n",
              "                        ..\n",
              "Jubira 10 Tablet         1\n",
              "Joincerin M  Tablet      1\n",
              "Jupiros 20 Tablet        1\n",
              "Joykem ODT 50 Tablet     1\n",
              "MR Met 500mg Tablet      1\n",
              "Name: count, Length: 11498, dtype: int64"
            ],
            "text/html": [
              "<div>\n",
              "<style scoped>\n",
              "    .dataframe tbody tr th:only-of-type {\n",
              "        vertical-align: middle;\n",
              "    }\n",
              "\n",
              "    .dataframe tbody tr th {\n",
              "        vertical-align: top;\n",
              "    }\n",
              "\n",
              "    .dataframe thead th {\n",
              "        text-align: right;\n",
              "    }\n",
              "</style>\n",
              "<table border=\"1\" class=\"dataframe\">\n",
              "  <thead>\n",
              "    <tr style=\"text-align: right;\">\n",
              "      <th></th>\n",
              "      <th>count</th>\n",
              "    </tr>\n",
              "    <tr>\n",
              "      <th>Medicine Name</th>\n",
              "      <th></th>\n",
              "    </tr>\n",
              "  </thead>\n",
              "  <tbody>\n",
              "    <tr>\n",
              "      <th>Lulifin Cream</th>\n",
              "      <td>4</td>\n",
              "    </tr>\n",
              "    <tr>\n",
              "      <th>Benadryl Syrup</th>\n",
              "      <td>3</td>\n",
              "    </tr>\n",
              "    <tr>\n",
              "      <th>Livoluk Oral Solution</th>\n",
              "      <td>3</td>\n",
              "    </tr>\n",
              "    <tr>\n",
              "      <th>Nebistar 5 Tablet</th>\n",
              "      <td>3</td>\n",
              "    </tr>\n",
              "    <tr>\n",
              "      <th>Amrolstar Cream</th>\n",
              "      <td>3</td>\n",
              "    </tr>\n",
              "    <tr>\n",
              "      <th>...</th>\n",
              "      <td>...</td>\n",
              "    </tr>\n",
              "    <tr>\n",
              "      <th>Jubira 10 Tablet</th>\n",
              "      <td>1</td>\n",
              "    </tr>\n",
              "    <tr>\n",
              "      <th>Joincerin M  Tablet</th>\n",
              "      <td>1</td>\n",
              "    </tr>\n",
              "    <tr>\n",
              "      <th>Jupiros 20 Tablet</th>\n",
              "      <td>1</td>\n",
              "    </tr>\n",
              "    <tr>\n",
              "      <th>Joykem ODT 50 Tablet</th>\n",
              "      <td>1</td>\n",
              "    </tr>\n",
              "    <tr>\n",
              "      <th>MR Met 500mg Tablet</th>\n",
              "      <td>1</td>\n",
              "    </tr>\n",
              "  </tbody>\n",
              "</table>\n",
              "<p>11498 rows × 1 columns</p>\n",
              "</div><br><label><b>dtype:</b> int64</label>"
            ]
          },
          "metadata": {},
          "execution_count": 5
        }
      ],
      "source": [
        "Medicine_Details[\"Medicine Name\"].value_counts()"
      ]
    },
    {
      "cell_type": "code",
      "execution_count": null,
      "metadata": {
        "id": "Vu7uztl0byn2",
        "colab": {
          "base_uri": "https://localhost:8080/",
          "height": 300
        },
        "outputId": "ab314b37-7f54-4648-8e71-0c82d70953c7"
      },
      "outputs": [
        {
          "output_type": "execute_result",
          "data": {
            "text/plain": [
              "       Excellent Review %  Average Review %  Poor Review %\n",
              "count        11825.000000      11825.000000   11825.000000\n",
              "mean            38.516025         35.756364      25.727611\n",
              "std             25.225343         18.268134      23.991985\n",
              "min              0.000000          0.000000       0.000000\n",
              "25%             22.000000         27.000000       0.000000\n",
              "50%             34.000000         35.000000      22.000000\n",
              "75%             51.000000         47.000000      35.000000\n",
              "max            100.000000         88.000000     100.000000"
            ],
            "text/html": [
              "\n",
              "  <div id=\"df-8b1b0b91-fbe7-433e-bd90-00ed93d8a215\" class=\"colab-df-container\">\n",
              "    <div>\n",
              "<style scoped>\n",
              "    .dataframe tbody tr th:only-of-type {\n",
              "        vertical-align: middle;\n",
              "    }\n",
              "\n",
              "    .dataframe tbody tr th {\n",
              "        vertical-align: top;\n",
              "    }\n",
              "\n",
              "    .dataframe thead th {\n",
              "        text-align: right;\n",
              "    }\n",
              "</style>\n",
              "<table border=\"1\" class=\"dataframe\">\n",
              "  <thead>\n",
              "    <tr style=\"text-align: right;\">\n",
              "      <th></th>\n",
              "      <th>Excellent Review %</th>\n",
              "      <th>Average Review %</th>\n",
              "      <th>Poor Review %</th>\n",
              "    </tr>\n",
              "  </thead>\n",
              "  <tbody>\n",
              "    <tr>\n",
              "      <th>count</th>\n",
              "      <td>11825.000000</td>\n",
              "      <td>11825.000000</td>\n",
              "      <td>11825.000000</td>\n",
              "    </tr>\n",
              "    <tr>\n",
              "      <th>mean</th>\n",
              "      <td>38.516025</td>\n",
              "      <td>35.756364</td>\n",
              "      <td>25.727611</td>\n",
              "    </tr>\n",
              "    <tr>\n",
              "      <th>std</th>\n",
              "      <td>25.225343</td>\n",
              "      <td>18.268134</td>\n",
              "      <td>23.991985</td>\n",
              "    </tr>\n",
              "    <tr>\n",
              "      <th>min</th>\n",
              "      <td>0.000000</td>\n",
              "      <td>0.000000</td>\n",
              "      <td>0.000000</td>\n",
              "    </tr>\n",
              "    <tr>\n",
              "      <th>25%</th>\n",
              "      <td>22.000000</td>\n",
              "      <td>27.000000</td>\n",
              "      <td>0.000000</td>\n",
              "    </tr>\n",
              "    <tr>\n",
              "      <th>50%</th>\n",
              "      <td>34.000000</td>\n",
              "      <td>35.000000</td>\n",
              "      <td>22.000000</td>\n",
              "    </tr>\n",
              "    <tr>\n",
              "      <th>75%</th>\n",
              "      <td>51.000000</td>\n",
              "      <td>47.000000</td>\n",
              "      <td>35.000000</td>\n",
              "    </tr>\n",
              "    <tr>\n",
              "      <th>max</th>\n",
              "      <td>100.000000</td>\n",
              "      <td>88.000000</td>\n",
              "      <td>100.000000</td>\n",
              "    </tr>\n",
              "  </tbody>\n",
              "</table>\n",
              "</div>\n",
              "    <div class=\"colab-df-buttons\">\n",
              "\n",
              "  <div class=\"colab-df-container\">\n",
              "    <button class=\"colab-df-convert\" onclick=\"convertToInteractive('df-8b1b0b91-fbe7-433e-bd90-00ed93d8a215')\"\n",
              "            title=\"Convert this dataframe to an interactive table.\"\n",
              "            style=\"display:none;\">\n",
              "\n",
              "  <svg xmlns=\"http://www.w3.org/2000/svg\" height=\"24px\" viewBox=\"0 -960 960 960\">\n",
              "    <path d=\"M120-120v-720h720v720H120Zm60-500h600v-160H180v160Zm220 220h160v-160H400v160Zm0 220h160v-160H400v160ZM180-400h160v-160H180v160Zm440 0h160v-160H620v160ZM180-180h160v-160H180v160Zm440 0h160v-160H620v160Z\"/>\n",
              "  </svg>\n",
              "    </button>\n",
              "\n",
              "  <style>\n",
              "    .colab-df-container {\n",
              "      display:flex;\n",
              "      gap: 12px;\n",
              "    }\n",
              "\n",
              "    .colab-df-convert {\n",
              "      background-color: #E8F0FE;\n",
              "      border: none;\n",
              "      border-radius: 50%;\n",
              "      cursor: pointer;\n",
              "      display: none;\n",
              "      fill: #1967D2;\n",
              "      height: 32px;\n",
              "      padding: 0 0 0 0;\n",
              "      width: 32px;\n",
              "    }\n",
              "\n",
              "    .colab-df-convert:hover {\n",
              "      background-color: #E2EBFA;\n",
              "      box-shadow: 0px 1px 2px rgba(60, 64, 67, 0.3), 0px 1px 3px 1px rgba(60, 64, 67, 0.15);\n",
              "      fill: #174EA6;\n",
              "    }\n",
              "\n",
              "    .colab-df-buttons div {\n",
              "      margin-bottom: 4px;\n",
              "    }\n",
              "\n",
              "    [theme=dark] .colab-df-convert {\n",
              "      background-color: #3B4455;\n",
              "      fill: #D2E3FC;\n",
              "    }\n",
              "\n",
              "    [theme=dark] .colab-df-convert:hover {\n",
              "      background-color: #434B5C;\n",
              "      box-shadow: 0px 1px 3px 1px rgba(0, 0, 0, 0.15);\n",
              "      filter: drop-shadow(0px 1px 2px rgba(0, 0, 0, 0.3));\n",
              "      fill: #FFFFFF;\n",
              "    }\n",
              "  </style>\n",
              "\n",
              "    <script>\n",
              "      const buttonEl =\n",
              "        document.querySelector('#df-8b1b0b91-fbe7-433e-bd90-00ed93d8a215 button.colab-df-convert');\n",
              "      buttonEl.style.display =\n",
              "        google.colab.kernel.accessAllowed ? 'block' : 'none';\n",
              "\n",
              "      async function convertToInteractive(key) {\n",
              "        const element = document.querySelector('#df-8b1b0b91-fbe7-433e-bd90-00ed93d8a215');\n",
              "        const dataTable =\n",
              "          await google.colab.kernel.invokeFunction('convertToInteractive',\n",
              "                                                    [key], {});\n",
              "        if (!dataTable) return;\n",
              "\n",
              "        const docLinkHtml = 'Like what you see? Visit the ' +\n",
              "          '<a target=\"_blank\" href=https://colab.research.google.com/notebooks/data_table.ipynb>data table notebook</a>'\n",
              "          + ' to learn more about interactive tables.';\n",
              "        element.innerHTML = '';\n",
              "        dataTable['output_type'] = 'display_data';\n",
              "        await google.colab.output.renderOutput(dataTable, element);\n",
              "        const docLink = document.createElement('div');\n",
              "        docLink.innerHTML = docLinkHtml;\n",
              "        element.appendChild(docLink);\n",
              "      }\n",
              "    </script>\n",
              "  </div>\n",
              "\n",
              "\n",
              "<div id=\"df-60bcea31-a5d7-4922-aea7-0caa44731f57\">\n",
              "  <button class=\"colab-df-quickchart\" onclick=\"quickchart('df-60bcea31-a5d7-4922-aea7-0caa44731f57')\"\n",
              "            title=\"Suggest charts\"\n",
              "            style=\"display:none;\">\n",
              "\n",
              "<svg xmlns=\"http://www.w3.org/2000/svg\" height=\"24px\"viewBox=\"0 0 24 24\"\n",
              "     width=\"24px\">\n",
              "    <g>\n",
              "        <path d=\"M19 3H5c-1.1 0-2 .9-2 2v14c0 1.1.9 2 2 2h14c1.1 0 2-.9 2-2V5c0-1.1-.9-2-2-2zM9 17H7v-7h2v7zm4 0h-2V7h2v10zm4 0h-2v-4h2v4z\"/>\n",
              "    </g>\n",
              "</svg>\n",
              "  </button>\n",
              "\n",
              "<style>\n",
              "  .colab-df-quickchart {\n",
              "      --bg-color: #E8F0FE;\n",
              "      --fill-color: #1967D2;\n",
              "      --hover-bg-color: #E2EBFA;\n",
              "      --hover-fill-color: #174EA6;\n",
              "      --disabled-fill-color: #AAA;\n",
              "      --disabled-bg-color: #DDD;\n",
              "  }\n",
              "\n",
              "  [theme=dark] .colab-df-quickchart {\n",
              "      --bg-color: #3B4455;\n",
              "      --fill-color: #D2E3FC;\n",
              "      --hover-bg-color: #434B5C;\n",
              "      --hover-fill-color: #FFFFFF;\n",
              "      --disabled-bg-color: #3B4455;\n",
              "      --disabled-fill-color: #666;\n",
              "  }\n",
              "\n",
              "  .colab-df-quickchart {\n",
              "    background-color: var(--bg-color);\n",
              "    border: none;\n",
              "    border-radius: 50%;\n",
              "    cursor: pointer;\n",
              "    display: none;\n",
              "    fill: var(--fill-color);\n",
              "    height: 32px;\n",
              "    padding: 0;\n",
              "    width: 32px;\n",
              "  }\n",
              "\n",
              "  .colab-df-quickchart:hover {\n",
              "    background-color: var(--hover-bg-color);\n",
              "    box-shadow: 0 1px 2px rgba(60, 64, 67, 0.3), 0 1px 3px 1px rgba(60, 64, 67, 0.15);\n",
              "    fill: var(--button-hover-fill-color);\n",
              "  }\n",
              "\n",
              "  .colab-df-quickchart-complete:disabled,\n",
              "  .colab-df-quickchart-complete:disabled:hover {\n",
              "    background-color: var(--disabled-bg-color);\n",
              "    fill: var(--disabled-fill-color);\n",
              "    box-shadow: none;\n",
              "  }\n",
              "\n",
              "  .colab-df-spinner {\n",
              "    border: 2px solid var(--fill-color);\n",
              "    border-color: transparent;\n",
              "    border-bottom-color: var(--fill-color);\n",
              "    animation:\n",
              "      spin 1s steps(1) infinite;\n",
              "  }\n",
              "\n",
              "  @keyframes spin {\n",
              "    0% {\n",
              "      border-color: transparent;\n",
              "      border-bottom-color: var(--fill-color);\n",
              "      border-left-color: var(--fill-color);\n",
              "    }\n",
              "    20% {\n",
              "      border-color: transparent;\n",
              "      border-left-color: var(--fill-color);\n",
              "      border-top-color: var(--fill-color);\n",
              "    }\n",
              "    30% {\n",
              "      border-color: transparent;\n",
              "      border-left-color: var(--fill-color);\n",
              "      border-top-color: var(--fill-color);\n",
              "      border-right-color: var(--fill-color);\n",
              "    }\n",
              "    40% {\n",
              "      border-color: transparent;\n",
              "      border-right-color: var(--fill-color);\n",
              "      border-top-color: var(--fill-color);\n",
              "    }\n",
              "    60% {\n",
              "      border-color: transparent;\n",
              "      border-right-color: var(--fill-color);\n",
              "    }\n",
              "    80% {\n",
              "      border-color: transparent;\n",
              "      border-right-color: var(--fill-color);\n",
              "      border-bottom-color: var(--fill-color);\n",
              "    }\n",
              "    90% {\n",
              "      border-color: transparent;\n",
              "      border-bottom-color: var(--fill-color);\n",
              "    }\n",
              "  }\n",
              "</style>\n",
              "\n",
              "  <script>\n",
              "    async function quickchart(key) {\n",
              "      const quickchartButtonEl =\n",
              "        document.querySelector('#' + key + ' button');\n",
              "      quickchartButtonEl.disabled = true;  // To prevent multiple clicks.\n",
              "      quickchartButtonEl.classList.add('colab-df-spinner');\n",
              "      try {\n",
              "        const charts = await google.colab.kernel.invokeFunction(\n",
              "            'suggestCharts', [key], {});\n",
              "      } catch (error) {\n",
              "        console.error('Error during call to suggestCharts:', error);\n",
              "      }\n",
              "      quickchartButtonEl.classList.remove('colab-df-spinner');\n",
              "      quickchartButtonEl.classList.add('colab-df-quickchart-complete');\n",
              "    }\n",
              "    (() => {\n",
              "      let quickchartButtonEl =\n",
              "        document.querySelector('#df-60bcea31-a5d7-4922-aea7-0caa44731f57 button');\n",
              "      quickchartButtonEl.style.display =\n",
              "        google.colab.kernel.accessAllowed ? 'block' : 'none';\n",
              "    })();\n",
              "  </script>\n",
              "</div>\n",
              "\n",
              "    </div>\n",
              "  </div>\n"
            ],
            "application/vnd.google.colaboratory.intrinsic+json": {
              "type": "dataframe",
              "summary": "{\n  \"name\": \"Medicine_Details\",\n  \"rows\": 8,\n  \"fields\": [\n    {\n      \"column\": \"Excellent Review %\",\n      \"properties\": {\n        \"dtype\": \"number\",\n        \"std\": 4167.195286584972,\n        \"min\": 0.0,\n        \"max\": 11825.0,\n        \"num_unique_values\": 8,\n        \"samples\": [\n          38.516025369978856,\n          34.0,\n          11825.0\n        ],\n        \"semantic_type\": \"\",\n        \"description\": \"\"\n      }\n    },\n    {\n      \"column\": \"Average Review %\",\n      \"properties\": {\n        \"dtype\": \"number\",\n        \"std\": 4168.167605004235,\n        \"min\": 0.0,\n        \"max\": 11825.0,\n        \"num_unique_values\": 8,\n        \"samples\": [\n          35.75636363636364,\n          35.0,\n          11825.0\n        ],\n        \"semantic_type\": \"\",\n        \"description\": \"\"\n      }\n    },\n    {\n      \"column\": \"Poor Review %\",\n      \"properties\": {\n        \"dtype\": \"number\",\n        \"std\": 4170.445111080613,\n        \"min\": 0.0,\n        \"max\": 11825.0,\n        \"num_unique_values\": 7,\n        \"samples\": [\n          11825.0,\n          25.727610993657507,\n          35.0\n        ],\n        \"semantic_type\": \"\",\n        \"description\": \"\"\n      }\n    }\n  ]\n}"
            }
          },
          "metadata": {},
          "execution_count": 6
        }
      ],
      "source": [
        "Medicine_Details.describe()"
      ]
    },
    {
      "cell_type": "markdown",
      "source": [
        "**3. Create a test set**"
      ],
      "metadata": {
        "id": "wivNHBHtJrxt"
      }
    },
    {
      "cell_type": "code",
      "execution_count": null,
      "metadata": {
        "id": "oQwkhgFYsvF9"
      },
      "outputs": [],
      "source": [
        "from sklearn.model_selection import train_test_split\n",
        "\n",
        "# Tách nhãn và đặc trưng\n",
        "X = data_encoded[['Medicine Name Encoded', 'Composition Encoded']]\n",
        "y = data_encoded['Primary Use']\n",
        "\n",
        "# Chia dữ liệu thành tập huấn luyện và kiểm tra (80-20)\n",
        "X_train, X_test, y_train, y_test = train_test_split(X, y, test_size=0.2, random_state=42)\n"
      ]
    },
    {
      "cell_type": "markdown",
      "source": [
        "## II. Explore and visualize the data to gain insights."
      ],
      "metadata": {
        "id": "gFU6H5qWK390"
      }
    },
    {
      "cell_type": "markdown",
      "source": [
        "**1.Visualizing geographical data**"
      ],
      "metadata": {
        "id": "XJrCuRI9K-De"
      }
    },
    {
      "cell_type": "code",
      "source": [],
      "metadata": {
        "id": "QFwcPIsCLFlN"
      },
      "execution_count": null,
      "outputs": []
    },
    {
      "cell_type": "markdown",
      "source": [
        "**2.Look for correlations**"
      ],
      "metadata": {
        "id": "XzgJNAhwLGKU"
      }
    },
    {
      "cell_type": "code",
      "source": [],
      "metadata": {
        "id": "MZuebKLvLQzj"
      },
      "execution_count": null,
      "outputs": []
    },
    {
      "cell_type": "markdown",
      "source": [
        "**3.Experiment with attribute combinations**"
      ],
      "metadata": {
        "id": "h7x8cHRmLRiV"
      }
    },
    {
      "cell_type": "code",
      "source": [],
      "metadata": {
        "id": "-du8JbkWLa4L"
      },
      "execution_count": null,
      "outputs": []
    },
    {
      "cell_type": "markdown",
      "source": [
        "## III. Prepare the data for machine learning algorithms."
      ],
      "metadata": {
        "id": "epgZQrEgLbUY"
      }
    },
    {
      "cell_type": "markdown",
      "source": [
        "**1.Clean the data**"
      ],
      "metadata": {
        "id": "SkyZNDUtLiBg"
      }
    },
    {
      "cell_type": "code",
      "source": [],
      "metadata": {
        "id": "_VhCX3-KLpPe"
      },
      "execution_count": null,
      "outputs": []
    },
    {
      "cell_type": "markdown",
      "source": [
        "**2.Handling text and categorical attributes**"
      ],
      "metadata": {
        "id": "uuLgL_DUL25f"
      }
    },
    {
      "cell_type": "code",
      "source": [],
      "metadata": {
        "id": "PtWFxb4aMGOq"
      },
      "execution_count": null,
      "outputs": []
    },
    {
      "cell_type": "markdown",
      "source": [
        "**3.Feature scaling and transformation**"
      ],
      "metadata": {
        "id": "QHMMS1NHMGnU"
      }
    },
    {
      "cell_type": "code",
      "source": [],
      "metadata": {
        "id": "6Dw2677oMMUj"
      },
      "execution_count": null,
      "outputs": []
    },
    {
      "cell_type": "markdown",
      "source": [
        "**4.Custom Transformers**"
      ],
      "metadata": {
        "id": "XzYZA-MJMM8O"
      }
    },
    {
      "cell_type": "code",
      "source": [],
      "metadata": {
        "id": "7vUphlrGMSe-"
      },
      "execution_count": null,
      "outputs": []
    },
    {
      "cell_type": "markdown",
      "source": [
        "**5.Transformation Pipelines**"
      ],
      "metadata": {
        "id": "cE1FgUvFMTM5"
      }
    },
    {
      "cell_type": "code",
      "source": [],
      "metadata": {
        "id": "oZiySYdnMiu5"
      },
      "execution_count": null,
      "outputs": []
    },
    {
      "cell_type": "markdown",
      "source": [
        "## IV. Select a model and train it"
      ],
      "metadata": {
        "id": "Wr0c_1TsMjgs"
      }
    },
    {
      "cell_type": "markdown",
      "source": [
        "**1.Train and Evaluate on the Training Set**"
      ],
      "metadata": {
        "id": "td0n0keaMxhg"
      }
    },
    {
      "cell_type": "code",
      "source": [],
      "metadata": {
        "id": "7EXp2NRzM8Ko"
      },
      "execution_count": null,
      "outputs": []
    },
    {
      "cell_type": "markdown",
      "source": [
        "**2.Better Evaluation Using Cross Validation**"
      ],
      "metadata": {
        "id": "6Mx5RkvpM8hr"
      }
    },
    {
      "cell_type": "code",
      "source": [],
      "metadata": {
        "id": "SyJeuGgZNBwm"
      },
      "execution_count": null,
      "outputs": []
    },
    {
      "cell_type": "markdown",
      "source": [
        "## V. Fine-tune your model"
      ],
      "metadata": {
        "id": "473KvoubNF_w"
      }
    },
    {
      "cell_type": "markdown",
      "source": [
        "**1.Grid Search**"
      ],
      "metadata": {
        "id": "hVd1BDgENJgL"
      }
    },
    {
      "cell_type": "code",
      "source": [],
      "metadata": {
        "id": "ADuHNmDCNaTc"
      },
      "execution_count": null,
      "outputs": []
    },
    {
      "cell_type": "markdown",
      "source": [
        "**2.Randomized Search**"
      ],
      "metadata": {
        "id": "feJIkBQ_NapK"
      }
    },
    {
      "cell_type": "code",
      "source": [],
      "metadata": {
        "id": "GBl2MQDaNfgX"
      },
      "execution_count": null,
      "outputs": []
    },
    {
      "cell_type": "markdown",
      "source": [
        "**3.Ensemble Methods**"
      ],
      "metadata": {
        "id": "id8-2iDXNfyj"
      }
    },
    {
      "cell_type": "code",
      "source": [],
      "metadata": {
        "id": "ez4RlvxVNkdF"
      },
      "execution_count": null,
      "outputs": []
    },
    {
      "cell_type": "markdown",
      "source": [
        "**4.Analyzing the Best Models and Their Errors**"
      ],
      "metadata": {
        "id": "UkFiSKBkNlDQ"
      }
    },
    {
      "cell_type": "code",
      "source": [],
      "metadata": {
        "id": "i227nnhFNqxs"
      },
      "execution_count": null,
      "outputs": []
    },
    {
      "cell_type": "markdown",
      "source": [
        "**5.Evaluate Your System on Test Set**"
      ],
      "metadata": {
        "id": "uembd_ZNNrK_"
      }
    },
    {
      "cell_type": "code",
      "source": [],
      "metadata": {
        "id": "6Aey4dY8Nx8t"
      },
      "execution_count": null,
      "outputs": []
    },
    {
      "cell_type": "markdown",
      "source": [
        "## VI. Present your solution"
      ],
      "metadata": {
        "id": "eND2HsrXNy_X"
      }
    },
    {
      "cell_type": "code",
      "source": [],
      "metadata": {
        "id": "Cyl72ek6OHja"
      },
      "execution_count": null,
      "outputs": []
    },
    {
      "cell_type": "markdown",
      "source": [
        "## VII.Launch, monitor, and maintain your system"
      ],
      "metadata": {
        "id": "r-XW8zHoOIAx"
      }
    },
    {
      "cell_type": "code",
      "source": [],
      "metadata": {
        "id": "JUyTlXjGOQAj"
      },
      "execution_count": null,
      "outputs": []
    }
  ],
  "metadata": {
    "colab": {
      "provenance": [],
      "toc_visible": true
    },
    "kernelspec": {
      "display_name": "Python 3",
      "name": "python3"
    },
    "language_info": {
      "name": "python"
    }
  },
  "nbformat": 4,
  "nbformat_minor": 0
}